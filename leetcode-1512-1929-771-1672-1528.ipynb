{
 "cells": [
  {
   "cell_type": "code",
   "execution_count": 5,
   "id": "83aeb305-096c-4be6-9704-594c555b18cb",
   "metadata": {},
   "outputs": [
    {
     "data": {
      "text/plain": [
       "4"
      ]
     },
     "execution_count": 5,
     "metadata": {},
     "output_type": "execute_result"
    }
   ],
   "source": [
    "nums = [1,2,3,1,1,3]\n",
    "def numIdenticalPairs(nums):\n",
    "    pairs= []\n",
    "    for i in range(0, len(nums)):\n",
    "        #print(nums[i])\n",
    "        for j in range(i+1, len(nums)):\n",
    "            if nums[i]== nums[j]:\n",
    "                pairs.append([i, j])\n",
    "    return len(pairs)\n",
    "\n",
    "numIdenticalPairs(nums)"
   ]
  },
  {
   "cell_type": "code",
   "execution_count": 8,
   "id": "69af1c00-61ba-4986-a9c7-9e2c79e717ca",
   "metadata": {},
   "outputs": [
    {
     "data": {
      "text/plain": [
       "[1, 2, 3, 1, 1, 3, 1, 2, 3, 1, 1, 3]"
      ]
     },
     "execution_count": 8,
     "metadata": {},
     "output_type": "execute_result"
    }
   ],
   "source": [
    "def getConcatenation(nums):\n",
    "    copy_nums= nums\n",
    "    all_nums= nums+copy_nums\n",
    "    return all_nums\n",
    "\n",
    "getConcatenation(nums)"
   ]
  },
  {
   "cell_type": "code",
   "execution_count": 11,
   "id": "dbfdd326-bbdd-4224-8028-f4654c4687a7",
   "metadata": {},
   "outputs": [
    {
     "data": {
      "text/plain": [
       "3"
      ]
     },
     "execution_count": 11,
     "metadata": {},
     "output_type": "execute_result"
    }
   ],
   "source": [
    "jewels = \"aA\"\n",
    "stones = \"aAAbbbb\"\n",
    "def numJewelsInStones(jewels, stones):\n",
    "    list_stones= list(stones)\n",
    "    count=0\n",
    "    for i in list_stones:\n",
    "        if i in jewels:\n",
    "            count+=1\n",
    "    return count\n",
    "\n",
    "numJewelsInStones(jewels, stones)"
   ]
  },
  {
   "cell_type": "code",
   "execution_count": 13,
   "id": "19e45dcb-9b05-46c6-9357-1704034df05b",
   "metadata": {},
   "outputs": [
    {
     "data": {
      "text/plain": [
       "6"
      ]
     },
     "execution_count": 13,
     "metadata": {},
     "output_type": "execute_result"
    }
   ],
   "source": [
    "accounts = [[1,2,3],[3,2,1]]\n",
    "def maximumWealth(accounts):\n",
    "    wealth= []\n",
    "    for i in accounts:\n",
    "        sum=0\n",
    "        #print(i)\n",
    "        for j in i:\n",
    "            sum=sum+j\n",
    "        wealth.append(sum)\n",
    "    max_wealth= max(wealth)\n",
    "    return max_wealth\n",
    "\n",
    "maximumWealth(accounts)"
   ]
  },
  {
   "cell_type": "code",
   "execution_count": 22,
   "id": "0b262474-4416-4c31-91ca-26348255a292",
   "metadata": {},
   "outputs": [
    {
     "data": {
      "text/plain": [
       "'leetcode'"
      ]
     },
     "execution_count": 22,
     "metadata": {},
     "output_type": "execute_result"
    }
   ],
   "source": [
    "s = \"codeleet\" \n",
    "indices = [4,5,6,7,0,2,1,3]\n",
    "def restoreString(s, indices):\n",
    "    r=\"\"\n",
    "    for i in range(len(s)):\n",
    "        #print(i, indices.index(i), s[indices.index(i)])\n",
    "        r=r+s[indices.index(i)]\n",
    "    return r\n",
    "\n",
    "restoreString(s, indices)"
   ]
  },
  {
   "cell_type": "code",
   "execution_count": null,
   "id": "3ed1101a-87c4-486e-848b-8297b1f34220",
   "metadata": {},
   "outputs": [],
   "source": []
  }
 ],
 "metadata": {
  "kernelspec": {
   "display_name": "Python 3 (ipykernel)",
   "language": "python",
   "name": "python3"
  },
  "language_info": {
   "codemirror_mode": {
    "name": "ipython",
    "version": 3
   },
   "file_extension": ".py",
   "mimetype": "text/x-python",
   "name": "python",
   "nbconvert_exporter": "python",
   "pygments_lexer": "ipython3",
   "version": "3.11.7"
  }
 },
 "nbformat": 4,
 "nbformat_minor": 5
}
